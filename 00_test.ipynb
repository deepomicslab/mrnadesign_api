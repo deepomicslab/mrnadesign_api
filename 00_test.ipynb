{
 "cells": [
  {
   "cell_type": "code",
   "execution_count": 2,
   "metadata": {},
   "outputs": [],
   "source": [
    "import pandas as pd\n",
    "import numpy as np\n",
    "\n",
    "path = '/home/platform/project/mrnadesign_platform/mrnadesign_api/workspace/mrnadesign_database/'"
   ]
  },
  {
   "cell_type": "code",
   "execution_count": 12,
   "metadata": {},
   "outputs": [
    {
     "name": "stdout",
     "output_type": "stream",
     "text": [
      "(510, 19)\n",
      "(4487, 14)\n",
      "(4497, 5)\n",
      "(4884, 10)\n"
     ]
    }
   ],
   "source": [
    "df = pd.read_csv(path + 'Antigen_se.csv')\n",
    "print(df.shape)\n",
    "df = pd.read_csv(path + 'TAntigendb_se.csv')\n",
    "print(df.shape)\n",
    "df = pd.read_csv(path + 'Tantigen_rna_seq.csv')\n",
    "print(df.shape)\n",
    "df = pd.read_csv(path + 'Complete_3_UTR_ARE_Data/Complete_3_UTR_Data.csv')\n",
    "print(df.shape)"
   ]
  },
  {
   "cell_type": "code",
   "execution_count": 4,
   "metadata": {},
   "outputs": [
    {
     "data": {
      "text/plain": [
       "Index(['AgACC', 'Antigen Name', 'Full Name', 'Synonym', 'UniProt ID', 'href1',\n",
       "       'NCBI Gene ID', 'href2', 'GeneCard ID', 'href3', 'Isoforms',\n",
       "       'RNA/protein expression profile', 'href4', 'Antigen sequence'],\n",
       "      dtype='object')"
      ]
     },
     "execution_count": 4,
     "metadata": {},
     "output_type": "execute_result"
    }
   ],
   "source": [
    "df.columns"
   ]
  },
  {
   "cell_type": "code",
   "execution_count": 82,
   "metadata": {},
   "outputs": [
    {
     "data": {
      "text/plain": [
       "0       LRIG2\n",
       "1       LRIG3\n",
       "2       LRP11\n",
       "3       LRP12\n",
       "4        LRP4\n",
       "        ...  \n",
       "4879    LRCH2\n",
       "4880    LRFN2\n",
       "4881    LRFN4\n",
       "4882    LRIF1\n",
       "4883       F3\n",
       "Name: GeneName, Length: 4884, dtype: object"
      ]
     },
     "execution_count": 82,
     "metadata": {},
     "output_type": "execute_result"
    }
   ],
   "source": [
    "df['GeneName']"
   ]
  },
  {
   "cell_type": "code",
   "execution_count": 9,
   "metadata": {},
   "outputs": [
    {
     "data": {
      "text/plain": [
       "63"
      ]
     },
     "execution_count": 9,
     "metadata": {},
     "output_type": "execute_result"
    }
   ],
   "source": [
    "np.max([len(str(i)) for i in df['RNA/protein expression profile'].to_numpy()])"
   ]
  },
  {
   "cell_type": "code",
   "execution_count": 19,
   "metadata": {},
   "outputs": [
    {
     "data": {
      "text/plain": [
       "array(['LRIG2', 'ENSG00000198799', 'ENST00000361127',\n",
       "       'leucine rich repeats and immunoglobulin like domains 2 [Source:HGNC Symbol;Acc:HGNC:20889]',\n",
       "       766, 779, 'TTTTATTTAAAGT', 1, '1', 'KIAA0806'], dtype=object)"
      ]
     },
     "execution_count": 19,
     "metadata": {},
     "output_type": "execute_result"
    }
   ],
   "source": [
    "df.to_numpy()[0]"
   ]
  },
  {
   "cell_type": "code",
   "execution_count": 9,
   "metadata": {},
   "outputs": [
    {
     "data": {
      "text/plain": [
       "(510, 19)"
      ]
     },
     "execution_count": 9,
     "metadata": {},
     "output_type": "execute_result"
    }
   ],
   "source": [
    "antigen"
   ]
  },
  {
   "cell_type": "code",
   "execution_count": 6,
   "metadata": {},
   "outputs": [
    {
     "data": {
      "text/plain": [
       "(4497, 5)"
      ]
     },
     "execution_count": 6,
     "metadata": {},
     "output_type": "execute_result"
    }
   ],
   "source": [
    "pd.read_csv('/home/platform/project/mrnadesign_platform/mrnadesign_api/workspace/mrnadesign_database/Tantigen_rna_seq.csv').shape"
   ]
  },
  {
   "cell_type": "code",
   "execution_count": 7,
   "metadata": {},
   "outputs": [
    {
     "data": {
      "text/plain": [
       "(4487, 14)"
      ]
     },
     "execution_count": 7,
     "metadata": {},
     "output_type": "execute_result"
    }
   ],
   "source": [
    "pd.read_csv('/home/platform/project/mrnadesign_platform/mrnadesign_api/workspace/mrnadesign_database/TAntigendb_se.csv').shape"
   ]
  }
 ],
 "metadata": {
  "kernelspec": {
   "display_name": "mrnadesign",
   "language": "python",
   "name": "python3"
  },
  "language_info": {
   "codemirror_mode": {
    "name": "ipython",
    "version": 3
   },
   "file_extension": ".py",
   "mimetype": "text/x-python",
   "name": "python",
   "nbconvert_exporter": "python",
   "pygments_lexer": "ipython3",
   "version": "3.9.20"
  }
 },
 "nbformat": 4,
 "nbformat_minor": 2
}
